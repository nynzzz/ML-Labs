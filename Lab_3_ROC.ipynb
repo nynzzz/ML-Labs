{
 "cells": [
  {
   "cell_type": "code",
   "execution_count": 2,
   "metadata": {
    "collapsed": true
   },
   "outputs": [],
   "source": [
    "import numpy as np\n",
    "import pandas as pd\n",
    "import matplotlib.pyplot as plt\n",
    "import warnings\n",
    "from sklearn import metrics\n",
    "warnings.filterwarnings('ignore')\n",
    "import kNN"
   ]
  },
  {
   "cell_type": "code",
   "execution_count": 3,
   "metadata": {},
   "outputs": [],
   "source": [
    "# Task A:\n",
    "\n",
    "# ROC class\n",
    "class ROC:\n",
    "    #constructor\n",
    "    def __init__(self, Probs, TrueClass):\n",
    "        self.data = pd.DataFrame(data = (Probs, TrueClass)).T\n",
    "        self.data.columns = ['Probs', 'TrueClass']\n",
    "\n",
    "# Task B:\n",
    "\n",
    "    #compute_ROC_coordinates method (given)\n",
    "    def compute_ROC_coordinates(self):\n",
    "\n",
    "        data = self.data\n",
    "        #sort Probs in decreasing order\n",
    "        data = data.sort_values(data.columns[0], ascending = False)\n",
    "        FP = 0\n",
    "        TP = 0\n",
    "        ROC_coordinates = []\n",
    "        P = data['TrueClass'].value_counts()[1]\n",
    "        N = data['TrueClass'].value_counts()[0]\n",
    "        # print('P', P)\n",
    "        # print('N', N)\n",
    "\n",
    "        Previos_Prob = float('-inf')\n",
    "\n",
    "        for i in range (P+N):  # for each i-th instance\n",
    "            #probability of the current element i\n",
    "            Probs_i = data.iloc[i][0]\n",
    "            #compare probability of current element and the previous one\n",
    "            if Probs_i != Previos_Prob:\n",
    "                #if not equal add a new coordinate to ROC_coordinates list\n",
    "                ROC_coordinates.append(((FP/N), (TP/P)))\n",
    "                #reassign the previous element to the current one\n",
    "                Previos_Prob = Probs_i\n",
    "            #true class of the current element\n",
    "            TrueClass_i = data.iloc[i][1]\n",
    "            #increment True Positives by one if class of the current element is 1\n",
    "            if TrueClass_i == 1:\n",
    "                TP += 1\n",
    "            #else increment False Positive by one\n",
    "            else:\n",
    "                FP += 1\n",
    "        #add the last point to the coordinates list\n",
    "        ROC_coordinates.append(((FP/N), (TP/P)))\n",
    "        return ROC_coordinates\n",
    "\n",
    "    #compute_ROC_coordinates method (a different approach)\n",
    "    def compute_ROC_coordinates_new(self):\n",
    "\n",
    "        data = self.data\n",
    "        #sort Probs in decreasing order\n",
    "        data = data.sort_values(data.columns[0], ascending = False)\n",
    "\n",
    "        ROC_coordinates = []\n",
    "        P = data['TrueClass'].value_counts()[1]\n",
    "        N = data['TrueClass'].value_counts()[0]\n",
    "        # print('P', P)\n",
    "        # print('N', N)\n",
    "\n",
    "        #iterate thresholds from 0.0 to 1.0\n",
    "        #the threshold is initially 0, and then it increments by 0.05 until it is equal to 1\n",
    "        thresholds = np.arange(0.0, 1.01, 0.05) #([0.0, 0.05, 0.1, ..., 0.95, 1.0])\n",
    "\n",
    "        #assign previous False Positive abd True Positive rates to none\n",
    "        FPR_prev = None\n",
    "        TPR_prev = None\n",
    "\n",
    "        #itterate trough thresholds\n",
    "        for threshold in thresholds:\n",
    "            FP=0\n",
    "            TP=0\n",
    "            threshold = round(threshold,2)\n",
    "            #for each i-th instance\n",
    "            for i in range(P+N):\n",
    "                #true class of the current element\n",
    "                TrueClass_i = data.iloc[i][1]\n",
    "                #probability of the current element i\n",
    "                Probs_i = data.iloc[i][0]\n",
    "                #check if probability of the current element is bigger or equal to threshold\n",
    "                if Probs_i >= threshold:\n",
    "                    #if true class of the current element is one, increase True Positives by one\n",
    "                    if TrueClass_i == 1:\n",
    "                        TP = TP + 1\n",
    "                    #if true class of the current element is zero, increase False Positives by one\n",
    "                    if TrueClass_i == 0:\n",
    "                        FP = FP + 1\n",
    "            #check if the coordinate obtained is not equal to the previous one\n",
    "            if not (FPR_prev == FP/N and TPR_prev == TP/P):\n",
    "                #if the condition is met, add the new coordinate to the `ROC_coordinates` list\n",
    "                ROC_coordinates.append(((FP/N), (TP/P)))\n",
    "            #reassign the previous False Positive abd True Positive rates to the current ones\n",
    "            FPR_prev = FP/N\n",
    "            TPR_prev = TP/P\n",
    "        return ROC_coordinates\n",
    "\n",
    "# Task C:\n",
    "\n",
    "    #method plot_ROC\n",
    "    def plot_ROC(self, ROC_coordinates):\n",
    "        xs = [x[0] for x in ROC_coordinates]\n",
    "        ys = [x[1] for x in ROC_coordinates]\n",
    "        plt.plot(xs, ys, linestyle='--', marker='o', color='red', lw = 2, label='ROC curve', clip_on=False)\n",
    "        plt.plot([0, 1], [0, 1], color='navy', linestyle='--')\n",
    "        plt.xlabel('False Positive Rate')\n",
    "        plt.ylabel('True Positive Rate')\n",
    "        plt.title('ROC curve')\n",
    "        plt.legend(loc=\"lower right\")\n",
    "        plt.show()\n",
    "\n",
    "# Task D:\n",
    "\n",
    "    # method compute_AUCROC\n",
    "    def compute_AUCROC(self, ROC_coordinates):\n",
    "        xs = [x[0] for x in ROC_coordinates]\n",
    "        ys = [x[1] for x in ROC_coordinates]\n",
    "        #using a sklearn function `auc` from metrics package\n",
    "        auc = metrics.auc(xs, ys)\n",
    "        return auc"
   ]
  },
  {
   "cell_type": "markdown",
   "metadata": {},
   "source": [
    "### Comments on task B:\n",
    "\n",
    "#### A (the pseudocode in Appendix A):\n",
    "This approach solves this problem in the following way: It iterates through all instances and adds a new coordinate point to the list only if probability of being positive of the current instance is not equal to the previous one.\n",
    "\n",
    "#### B (your method compute_ROC_coordinates):\n",
    "This approach solves this problem in the following way: It first creates a list of `thresholds` that stores values from 0.0 to 1.0, starting at 0.0 with a step size of 0.05. These values are used to compare to a probability of being positive of an instance. After creating a `thresholds` list, it iterates through this list and for each value `threshold` it iterates through each instance. If probability of being positive of the instance is bigger or equal to `threshold`, it verifies the true class of the instance, updates the True Positive and False Positive rates. Only then it checks the inequality of the current and previous True Positive and False Positive rate, if they are not equal it adds the new coordinate to the list of `ROC_coordinates`.\n",
    "This approach is still a worse decision in comparison to the approach discussed in A because it uses a nested for loop what makes it computationally heavier."
   ]
  },
  {
   "cell_type": "code",
   "execution_count": 26,
   "metadata": {},
   "outputs": [],
   "source": [
    "#converter_to_binar method\n",
    "#is used to convert string discrete classes to binary ones (positive = 1, negative = 0)\n",
    "def converter_to_binary(Y_train):\n",
    "    Y_train_binary = []\n",
    "    for i in range(len(Y_train)):\n",
    "        if Y_train.iloc[i] == 'tested_positive':\n",
    "            Y_train_binary.append(1)\n",
    "        else:\n",
    "            Y_train_binary.append(0)\n",
    "    return Y_train_binary"
   ]
  },
  {
   "cell_type": "code",
   "execution_count": 47,
   "metadata": {},
   "outputs": [
    {
     "name": "stdout",
     "output_type": "stream",
     "text": [
      "P 94\n",
      "N 168\n",
      "auc =  0.7246707193515705\n"
     ]
    }
   ],
   "source": [
    "# Task E:\n",
    "\n",
    "from sklearn.model_selection import train_test_split\n",
    "\n",
    "data = pd.read_csv('diabetes.csv')\n",
    "data.head()\n",
    "Y = data['class']\n",
    "X = data.drop(['class'],axis=1)\n",
    "\n",
    "X_train, X_test, Y_train, Y_test = train_test_split(X, Y, test_size=0.34, random_state=10)\n",
    "\n",
    "#create the classifier\n",
    "clf = kNN.kNN()\n",
    "clf.fit(X_train, Y_train)\n",
    "df = clf.getClassProbs(X_test).fillna(0)\n",
    "\n",
    "#Probs and TrueClass\n",
    "Probs = df['tested_positive']\n",
    "Probs_list = Probs.values.tolist()\n",
    "TrueClass = converter_to_binary(Y_test)\n",
    "#ROC analysis\n",
    "roc = ROC(Probs_list, TrueClass)\n",
    "roc_cord = roc.compute_ROC_coordinates()\n",
    "auc = roc.compute_AUCROC(roc_cord)\n",
    "print('auc = ',auc)"
   ]
  },
  {
   "cell_type": "code",
   "execution_count": 46,
   "metadata": {},
   "outputs": [
    {
     "data": {
      "image/png": "[encoded data removed]",
      "text/plain": [
       "<Figure size 432x288 with 1 Axes>"
      ]
     },
     "metadata": {
      "needs_background": "light"
     },
     "output_type": "display_data"
    }
   ],
   "source": [
    "roc.plot_ROC(roc_cord)"
   ]
  }
 ],
 "metadata": {
  "kernelspec": {
   "display_name": "Python 3 (ipykernel)",
   "language": "python",
   "name": "python3"
  },
  "language_info": {
   "codemirror_mode": {
    "name": "ipython",
    "version": 3
   },
   "file_extension": ".py",
   "mimetype": "text/x-python",
   "name": "python",
   "nbconvert_exporter": "python",
   "pygments_lexer": "ipython3",
   "version": "3.9.12"
  }
 },
 "nbformat": 4,
 "nbformat_minor": 1
}
