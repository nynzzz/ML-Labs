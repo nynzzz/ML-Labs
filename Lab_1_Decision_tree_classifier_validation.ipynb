{
 "cells": [
  {
   "cell_type": "code",
   "execution_count": 1,
   "metadata": {},
   "outputs": [],
   "source": [
    "import pandas as pd\n",
    "from sklearn import tree\n",
    "from sklearn.metrics import accuracy_score\n",
    "from sklearn.model_selection import train_test_split \n",
    "from matplotlib import pyplot"
   ]
  },
  {
   "cell_type": "markdown",
   "metadata": {},
   "source": [
    "### Import data sets and split into labels and attributes:"
   ]
  },
  {
   "cell_type": "code",
   "execution_count": 2,
   "metadata": {},
   "outputs": [],
   "source": [
    "#import data\n",
    "data_diabetes = pd.read_csv('diabetes.csv')\n",
    "data_glass = pd.read_csv('glass.csv')\n",
    "\n",
    "Y_diabetes = data_diabetes['class'] \n",
    "X_diabetes = data_diabetes.drop(['class'],axis=1) \n",
    "\n",
    "Y_glass = data_glass['class'] \n",
    "X_glass = data_glass.drop(['class'],axis=1) "
   ]
  },
  {
   "cell_type": "markdown",
   "metadata": {},
   "source": [
    "### Create one-level and multi-level trees for both diabetes and glass data sets:"
   ]
  },
  {
   "cell_type": "code",
   "execution_count": 3,
   "metadata": {},
   "outputs": [],
   "source": [
    "#create trees \n",
    "diabetes_1 = tree.DecisionTreeClassifier(criterion = 'entropy', max_depth = 1)\n",
    "diabetes_none = tree.DecisionTreeClassifier(criterion = 'entropy', max_depth = None)\n",
    "glass_1 = tree.DecisionTreeClassifier(criterion = 'entropy', max_depth = 1)\n",
    "glass_none = tree.DecisionTreeClassifier(criterion = 'entropy', max_depth = None)"
   ]
  },
  {
   "cell_type": "markdown",
   "metadata": {},
   "source": [
    "### Prepare training and test sets for both diabetes and glass data sets:"
   ]
  },
  {
   "cell_type": "code",
   "execution_count": 4,
   "metadata": {},
   "outputs": [],
   "source": [
    "#split data for applying hold out method\n",
    "X_train_diabetes, X_test_diabetes, Y_train_diabetes, Y_test_diabetes \n",
    "= train_test_split(X_diabetes, Y_diabetes, test_size=0.34, random_state=45353)\n",
    "\n",
    "X_train_glass, X_test_glass, Y_train_glass, Y_test_glass = \n",
    "train_test_split(X_glass, Y_glass, test_size=0.34, random_state=23423423)"
   ]
  },
  {
   "cell_type": "markdown",
   "metadata": {},
   "source": [
    "## Task C:\n",
    "\n",
    "In this task we are asked to train one-level decision trees and multi-level \n",
    "decision trees on the two data sets. Determine the accuracy rates of the resulting \n",
    "classifiers using the training set and hold-out validation. Explain why there is a \n",
    "difference inthe accuracy rates. Compare one-level decision trees and multi-level \n",
    "decision trees in terms of explainability.  \n",
    "\n",
    "Create four classifiers, by fitting obtaned data in already created trees. We create \n",
    "a classifier for 1-level-tree diabetes train data `ho_clf_diabetes_1`, 1-level-tree \n",
    "glass train data `ho_clf_glass_1`,none-level-tree diabetes train data \n",
    "`ho_clf_diabetes_none`, none-level-tree glass train data `ho_clf_glass_none`:"
   ]
  },
  {
   "cell_type": "code",
   "execution_count": 5,
   "metadata": {},
   "outputs": [],
   "source": [
    "#fit the data obtaned in created trees \n",
    "ho_clf_diabetes_1 = diabetes_1.fit(X_train_diabetes, Y_train_diabetes)\n",
    "ho_clf_glass_1 = glass_1.fit(X_train_glass, Y_train_glass)\n",
    "\n",
    "ho_clf_diabetes_none = diabetes_none.fit(X_train_diabetes, Y_train_diabetes)\n",
    "ho_clf_glass_none = glass_none.fit(X_train_glass, Y_train_glass)"
   ]
  },
  {
   "cell_type": "markdown",
   "metadata": {},
   "source": [
    "Create a simple function that would take as input a classifier, label and attribute of a data set\n",
    "and return the accuracy of the given classifier:"
   ]
  },
  {
   "cell_type": "code",
   "execution_count": 6,
   "metadata": {},
   "outputs": [],
   "source": [
    "#function to return accuracy of a classifier \n",
    "def getAccuracy(clf, X, Y):\n",
    "    Yp = clf.predict(X)\n",
    "    return accuracy_score(Y, Yp)"
   ]
  },
  {
   "cell_type": "markdown",
   "metadata": {},
   "source": [
    "Calculate accuracies of four previously created classifiers:"
   ]
  },
  {
   "cell_type": "code",
   "execution_count": 21,
   "metadata": {},
   "outputs": [],
   "source": [
    "#accuracy for diabetes clf with max depth = 1  \n",
    "acc_diabetes_1_train = getAccuracy(ho_clf_diabetes_1, X_train_diabetes, \n",
    "                                   Y_train_diabetes)\n",
    "\n",
    "acc_diabetes_1_test = getAccuracy(ho_clf_diabetes_1, X_test_diabetes, \n",
    "                                  Y_test_diabetes)"
   ]
  },
  {
   "cell_type": "code",
   "execution_count": 22,
   "metadata": {},
   "outputs": [],
   "source": [
    "#accuracy for diabetes clf with max depth = None\n",
    "acc_diabetes_none_train = getAccuracy(ho_clf_diabetes_none, X_train_diabetes, \n",
    "                                      Y_train_diabetes)\n",
    "acc_diabetes_none_test = getAccuracy(ho_clf_diabetes_none, X_test_diabetes, \n",
    "                                     Y_test_diabetes)"
   ]
  },
  {
   "cell_type": "code",
   "execution_count": 23,
   "metadata": {},
   "outputs": [],
   "source": [
    "#accuracy for glass clf with max depth = 1  \n",
    "acc_glass_1_train = getAccuracy(ho_clf_glass_1, X_train_glass, Y_train_glass)\n",
    "acc_glass_1_test = getAccuracy(ho_clf_glass_1, X_test_glass, Y_test_glass)"
   ]
  },
  {
   "cell_type": "code",
   "execution_count": 24,
   "metadata": {},
   "outputs": [],
   "source": [
    "#accuracy for glass clf with max depth = none \n",
    "acc_glass_none_train = getAccuracy(ho_clf_glass_none, X_train_glass, \n",
    "                                   Y_train_glass)\n",
    "acc_glass_none_test = getAccuracy(ho_clf_glass_none, X_test_glass, \n",
    "                                  Y_test_glass)"
   ]
  },
  {
   "cell_type": "markdown",
   "metadata": {},
   "source": [
    "Final results representation using a data frame:"
   ]
  },
  {
   "cell_type": "code",
   "execution_count": 25,
   "metadata": {},
   "outputs": [
    {
     "data": {
      "text/html": [
       "<div>\n",
       "<style scoped>\n",
       "    .dataframe tbody tr th:only-of-type {\n",
       "        vertical-align: middle;\n",
       "    }\n",
       "\n",
       "    .dataframe tbody tr th {\n",
       "        vertical-align: top;\n",
       "    }\n",
       "\n",
       "    .dataframe thead th {\n",
       "        text-align: right;\n",
       "    }\n",
       "</style>\n",
       "<table border=\"1\" class=\"dataframe\">\n",
       "  <thead>\n",
       "    <tr style=\"text-align: right;\">\n",
       "      <th></th>\n",
       "      <th>Name</th>\n",
       "      <th>Train accuracy</th>\n",
       "      <th>Test accuracy</th>\n",
       "    </tr>\n",
       "  </thead>\n",
       "  <tbody>\n",
       "    <tr>\n",
       "      <th>0</th>\n",
       "      <td>acc diabetes, depth 1:</td>\n",
       "      <td>0.749012</td>\n",
       "      <td>0.729008</td>\n",
       "    </tr>\n",
       "    <tr>\n",
       "      <th>1</th>\n",
       "      <td>acc diabetes, depth none</td>\n",
       "      <td>1.000000</td>\n",
       "      <td>0.679389</td>\n",
       "    </tr>\n",
       "    <tr>\n",
       "      <th>2</th>\n",
       "      <td>acc glass, depth 1</td>\n",
       "      <td>0.468085</td>\n",
       "      <td>0.698630</td>\n",
       "    </tr>\n",
       "    <tr>\n",
       "      <th>3</th>\n",
       "      <td>acc glass, depth none</td>\n",
       "      <td>1.000000</td>\n",
       "      <td>0.698630</td>\n",
       "    </tr>\n",
       "  </tbody>\n",
       "</table>\n",
       "</div>"
      ],
      "text/plain": [
       "                       Name  Train accuracy  Test accuracy\n",
       "0    acc diabetes, depth 1:        0.749012       0.729008\n",
       "1  acc diabetes, depth none        1.000000       0.679389\n",
       "2        acc glass, depth 1        0.468085       0.698630\n",
       "3     acc glass, depth none        1.000000       0.698630"
      ]
     },
     "execution_count": 25,
     "metadata": {},
     "output_type": "execute_result"
    }
   ],
   "source": [
    "data = {'Name': ['acc diabetes, depth 1:', 'acc diabetes, depth none', \n",
    "                 'acc glass, depth 1', 'acc glass, depth none'],\n",
    "        'Train accuracy': [acc_diabetes_1_train, acc_diabetes_none_train,\n",
    "                           acc_glass_1_train, acc_glass_none_train],\n",
    "        'Test accuracy': [acc_diabetes_1_test, acc_diabetes_none_test, \n",
    "                          acc_glass_none_test, acc_glass_none_test]}\n",
    "df = pd.DataFrame(data)\n",
    "df"
   ]
  },
  {
   "cell_type": "markdown",
   "metadata": {},
   "source": [
    "Results discussion:\n",
    "\n",
    "From the results we can see that both `depth none` classifiers have `Train accuracy` equal to 1.0 which means that both of them predict correct labels on there data sets with probability of 1.0. Also, both `depth none` classifiers have `Train accuracy` significantly bigger that `Test accuracy` which means that both of them are overfitted. \n",
    "For `depth 1` classifiers we can see from results that for both data sets, deviation between the `Test accuracy` and `Train accuracy` is not significantly big because the tree contains just one attribute and the decision is based on this attribute, what makes both `depth 1` classifiers perform overall worse then `depth none` classifiers. "
   ]
  },
  {
   "cell_type": "markdown",
   "metadata": {},
   "source": [
    "## Task D:\n",
    "\n",
    "For this task we are asked to gradually increase the min_samples_leaf value of a tree from 1 to the size of the datasets (with step of 5) and discuss the results of our observations.\n",
    "\n",
    "In our case, `min_samples_leaf` parameter is used to perform pre-pruning with different values for the minimum amount of instances that need to be in each child of a node to add those children to the decision tree. If there are less instances than the choosen minimum value for a child, the node that has this child will be a leaf node in the decision tree, none if it’s children will be added.\n",
    "\n",
    "Create a function that takes as input label and attribute of a data set and a real number \"min_samples_leaf\" and returns a classifier, created ussing a decision tree with `min_samples_leaf` parameter equal to \"min_samples_leaf\":"
   ]
  },
  {
   "cell_type": "code",
   "execution_count": 12,
   "metadata": {},
   "outputs": [],
   "source": [
    "#function to return a classifier for trees with min_samples_leaf paremeter\n",
    "def getClf_minSamplesLeaf(X, Y, min_samples_leaf):\n",
    "    clf = tree.DecisionTreeClassifier(criterion='entropy',\n",
    "                                      min_samples_leaf = min_samples_leaf)\n",
    "    clf.fit(X, Y)\n",
    "    return clf"
   ]
  },
  {
   "cell_type": "markdown",
   "metadata": {},
   "source": [
    "Create a function thats stores the accuracies of a classifier using trees with diffrent `min_samples_leaf` value and same data. Inputs are train label and train attribute of a data set, test label and test attribute of a data set and a step size that we want to use to imcrement `min_samples_leaf` parameter. The method ouputs a list of accuraces:"
   ]
  },
  {
   "cell_type": "code",
   "execution_count": 13,
   "metadata": {},
   "outputs": [],
   "source": [
    "#function to return accuracies of a clf for trees with min_samples_leaf \n",
    "#paremeter increasing with a stepsize\n",
    "def getAcc_minSamplesLeaf(X_train, Y_train, X_test, Y_test, step_size):\n",
    "    acc = []\n",
    "    for min_samples_leaf in range(1, len(X_train), step_size):\n",
    "        clf = getClf_minSamplesLeaf(X_train, Y_train, min_samples_leaf)\n",
    "        acc.append([min_samples_leaf, getAccuracy(clf, X_train, Y_train), \n",
    "                    getAccuracy(clf, X_test, Y_test)])\n",
    "    return acc"
   ]
  },
  {
   "cell_type": "markdown",
   "metadata": {},
   "source": [
    "Find the classifiers accuracies for diabetes and glass data sets with step size = 5:"
   ]
  },
  {
   "cell_type": "code",
   "execution_count": 14,
   "metadata": {},
   "outputs": [],
   "source": [
    "#get accuracies for diabetes and glass for diffrent min_samples_leaf \n",
    "#paremeter value\n",
    "acc_diabetes = getAcc_minSamplesLeaf(X_train_diabetes, Y_train_diabetes, \n",
    "                                     X_test_diabetes, Y_test_diabetes, 5)\n",
    "acc_glass = getAcc_minSamplesLeaf(X_train_glass, Y_train_glass, \n",
    "                                  X_test_glass, Y_test_glass, 5)"
   ]
  },
  {
   "cell_type": "markdown",
   "metadata": {},
   "source": [
    "Plot the results for diabetes data set:"
   ]
  },
  {
   "cell_type": "code",
   "execution_count": 15,
   "metadata": {},
   "outputs": [
    {
     "data": {
      "image/png": "[encoded data removed]",
      "text/plain": [
       "<Figure size 432x288 with 1 Axes>"
      ]
     },
     "metadata": {
      "needs_background": "light"
     },
     "output_type": "display_data"
    }
   ],
   "source": [
    "#results for diabetes data set \n",
    "acc_diabetes = pd.DataFrame(acc_diabetes,columns=['min_samples_leaf', \n",
    "                                                  'train acc', 'test acc'])\n",
    "%matplotlib inline\n",
    "pyplot.axvline(x=100, color='yellow')\n",
    "pyplot.axvline(x=199, color='yellow')\n",
    "ax = pyplot.gca()\n",
    "acc_diabetes.plot(kind='line', x='min_samples_leaf', y='train acc',\n",
    "                  color='blue', ax=ax)\n",
    "acc_diabetes.plot(kind='line', x='min_samples_leaf', y='test acc',\n",
    "                  color='red', ax=ax) \n",
    "pyplot.show()"
   ]
  },
  {
   "cell_type": "markdown",
   "metadata": {},
   "source": [
    "Observations:\n",
    "\n",
    "*Right from yellow lines - models are `underfited`, since they dont give enough complexity, like `depth 1` classifiers.\n",
    "\n",
    "*Between yellow lines - models are `otimal`, overall accuracy is not too bad and the accuracy on the training set does not differ too much from the accuracy on the test set.\n",
    "\n",
    "*Left from yellow lines - models `overfit`, both models added too many details of the training data into themself. That is why the accuracy on training set grows up to 1 and the accuracy of testing set is deacreasing."
   ]
  },
  {
   "cell_type": "markdown",
   "metadata": {},
   "source": [
    "Plot the results for glass data set:"
   ]
  },
  {
   "cell_type": "code",
   "execution_count": 16,
   "metadata": {},
   "outputs": [
    {
     "data": {
      "image/png": "[encoded data removed]",
      "text/plain": [
       "<Figure size 432x288 with 1 Axes>"
      ]
     },
     "metadata": {
      "needs_background": "light"
     },
     "output_type": "display_data"
    }
   ],
   "source": [
    "#results for glass data set\n",
    "acc_glass = pd.DataFrame(acc_glass, columns=['min_samples_leaf', \n",
    "                                             'train acc', 'test acc'])\n",
    "%matplotlib inline\n",
    "pyplot.axvline(x=30, color='yellow')\n",
    "pyplot.axvline(x=40, color='yellow')\n",
    "ax = pyplot.gca()\n",
    "acc_glass.plot(kind='line', x='min_samples_leaf', y='train acc',\n",
    "               color='blue', ax=ax)\n",
    "acc_glass.plot(kind='line', x='min_samples_leaf', y='test acc',\n",
    "               color='red', ax=ax) \n",
    "pyplot.show()"
   ]
  },
  {
   "cell_type": "markdown",
   "metadata": {},
   "source": [
    "Observations:\n",
    "\n",
    "In this case the observations are very similar to the previous ones, on diabetes data.\n",
    "\n",
    "*Right from yellow lines - models are `underfited`, since they dont give enough complexity, like `depth 1` classifiers.\n",
    "\n",
    "*Between yellow lines - models are `otimal`, overall accuracy is not too bad and the accuracy on the training set does not differ too much from the accuracy on the test set.\n",
    "\n",
    "*Left from yellow lines - models `overfit`, both models added too many details of the training data into themself. That is why the accuracy on training set grows up to 1 but now the accuracy of testing set also grows but only up to 0.7, which still indicates that the model is overfited."
   ]
  }
 ],
 "metadata": {
  "kernelspec": {
   "display_name": "Python 3 (ipykernel)",
   "language": "python",
   "name": "python3"
  },
  "language_info": {
   "codemirror_mode": {
    "name": "ipython",
    "version": 3
   },
   "file_extension": ".py",
   "mimetype": "text/x-python",
   "name": "python",
   "nbconvert_exporter": "python",
   "pygments_lexer": "ipython3",
   "version": "3.9.12"
  }
 },
 "nbformat": 4,
 "nbformat_minor": 1
}
